{
 "cells": [
  {
   "cell_type": "markdown",
   "id": "9b4c4fce",
   "metadata": {},
   "source": [
    "# Exploratory Data Analysis"
   ]
  },
  {
   "cell_type": "code",
   "execution_count": 1,
   "id": "9c963fd8",
   "metadata": {},
   "outputs": [
    {
     "name": "stderr",
     "output_type": "stream",
     "text": [
      "C:\\Users\\stanl\\AppData\\Local\\Temp\\ipykernel_2588\\336857928.py:5: DeprecationWarning: `import pandas_profiling` is going to be deprecated by April 1st. Please use `import ydata_profiling` instead.\n",
      "  import pandas_profiling\n"
     ]
    }
   ],
   "source": [
    "import pandas as pd\n",
    "import numpy as np\n",
    "import matplotlib.pyplot as plt\n",
    "import seaborn as sns\n",
    "import pandas_profiling"
   ]
  },
  {
   "cell_type": "code",
   "execution_count": 2,
   "id": "4c40af45",
   "metadata": {},
   "outputs": [],
   "source": [
    "a=pd.read_csv('Final dataset Attrition (1).csv')"
   ]
  },
  {
   "cell_type": "code",
   "execution_count": null,
   "id": "94eade75",
   "metadata": {},
   "outputs": [],
   "source": [
    "a.head()"
   ]
  },
  {
   "cell_type": "code",
   "execution_count": null,
   "id": "a1f90b93",
   "metadata": {
    "scrolled": true
   },
   "outputs": [],
   "source": [
    "a.dtypes"
   ]
  },
  {
   "cell_type": "code",
   "execution_count": null,
   "id": "9de54591",
   "metadata": {
    "scrolled": true
   },
   "outputs": [],
   "source": [
    "a['Date_of_Hire'] = pd.to_datetime(a['Date_of_Hire'])"
   ]
  },
  {
   "cell_type": "code",
   "execution_count": null,
   "id": "080e6903",
   "metadata": {},
   "outputs": [],
   "source": [
    "a['Date_of_Hire'].dtype"
   ]
  },
  {
   "cell_type": "code",
   "execution_count": null,
   "id": "1bc0f3ad",
   "metadata": {},
   "outputs": [],
   "source": [
    "a.isnull().sum()"
   ]
  },
  {
   "cell_type": "code",
   "execution_count": null,
   "id": "f60e4a49",
   "metadata": {},
   "outputs": [],
   "source": [
    "a.drop(['Date_of_termination','Unnamed: 32'],axis=1)"
   ]
  },
  {
   "cell_type": "code",
   "execution_count": null,
   "id": "1f7599dd",
   "metadata": {},
   "outputs": [],
   "source": [
    "a.shape"
   ]
  },
  {
   "cell_type": "code",
   "execution_count": null,
   "id": "3d122f13",
   "metadata": {},
   "outputs": [],
   "source": [
    "a.columns"
   ]
  },
  {
   "cell_type": "code",
   "execution_count": null,
   "id": "6658380a",
   "metadata": {},
   "outputs": [],
   "source": [
    "plt.hist(a['Age'],bins=10)\n",
    "plt.title('HISTOGRAM ON THE BASIS ON AGE')\n",
    "plt.show()"
   ]
  },
  {
   "cell_type": "code",
   "execution_count": null,
   "id": "4f1cd834",
   "metadata": {},
   "outputs": [],
   "source": [
    "Attrition=a['Attrition'].value_counts()\n",
    "fig,ax = plt.subplots()\n",
    "ax.pie(Attrition.values,labels=Attrition.index,autopct='%1.1f%%')\n",
    "ax.axis('equal')\n",
    "ax.set_title(\"Attrition percentage\")\n",
    "plt.show()"
   ]
  },
  {
   "cell_type": "code",
   "execution_count": null,
   "id": "22d57344",
   "metadata": {},
   "outputs": [],
   "source": [
    "BusinessTravel=a['BusinessTravel'].value_counts()\n",
    "plt.bar(BusinessTravel.index,BusinessTravel.values)\n",
    "plt.title('Business Travel Frequency')\n",
    "plt.ylabel('count of travel')"
   ]
  },
  {
   "cell_type": "code",
   "execution_count": null,
   "id": "42f939d7",
   "metadata": {},
   "outputs": [],
   "source": [
    "c=a['Department'].value_counts().index\n",
    "d=a['Department'].value_counts().values\n",
    "plt.bar(c,d,width=0.2)\n",
    "plt.title('Number of employee in different department')\n",
    "plt.xlabel('')\n",
    "plt.ylabel('')"
   ]
  },
  {
   "cell_type": "code",
   "execution_count": null,
   "id": "03a91073",
   "metadata": {},
   "outputs": [],
   "source": [
    "b=a['Status_of_leaving'].value_counts()\n",
    "fig, ax = plt.subplots()\n",
    "ax.pie(b.values, labels=b.index, autopct='%1.1f%%')\n",
    "ax.axis('equal')\n",
    "plt.title('Reason for employee leaving the company')\n",
    "plt.show()"
   ]
  },
  {
   "cell_type": "code",
   "execution_count": null,
   "id": "1877dacc",
   "metadata": {},
   "outputs": [],
   "source": [
    "plt.figure(figsize=(20,10))\n",
    "c=a['JobRole'].value_counts().values\n",
    "d=a['JobRole'].value_counts().index\n",
    "plt.ylabel('count of employee')\n",
    "plt.title('Number of employee in each job role')\n",
    "plt.bar(d,c)"
   ]
  },
  {
   "cell_type": "code",
   "execution_count": null,
   "id": "f163d8a2",
   "metadata": {},
   "outputs": [],
   "source": [
    "sns.scatterplot(x=a['TotalWorkingYears'],y=a['MonthlyIncome'])\n",
    "plt.title('Finding outlier on basis of salary')"
   ]
  },
  {
   "cell_type": "code",
   "execution_count": null,
   "id": "43d29f10",
   "metadata": {},
   "outputs": [],
   "source": [
    "plt.figure(figsize=(15, 6))\n",
    "sns.boxplot(x=a['TotalWorkingYears'], y=a['MonthlyIncome'])\n",
    "plt.title('Box Plot: Finding Outliers on Basis of Salary')\n",
    "plt.xlabel('Total Working Years')\n",
    "plt.ylabel('Monthly Income')\n",
    "plt.show()"
   ]
  },
  {
   "cell_type": "code",
   "execution_count": 3,
   "id": "3bb2df29",
   "metadata": {},
   "outputs": [],
   "source": [
    "profile_report = pandas_profiling.ProfileReport(a)"
   ]
  },
  {
   "cell_type": "code",
   "execution_count": 4,
   "id": "6fdb605c",
   "metadata": {},
   "outputs": [
    {
     "data": {
      "application/vnd.jupyter.widget-view+json": {
       "model_id": "bb21f806d2ac4421a0eaf90bb23ac79e",
       "version_major": 2,
       "version_minor": 0
      },
      "text/plain": [
       "Summarize dataset:   0%|          | 0/5 [00:00<?, ?it/s]"
      ]
     },
     "metadata": {},
     "output_type": "display_data"
    },
    {
     "data": {
      "application/vnd.jupyter.widget-view+json": {
       "model_id": "f88ed62e74754a299e9f4867cbedea8a",
       "version_major": 2,
       "version_minor": 0
      },
      "text/plain": [
       "Generate report structure:   0%|          | 0/1 [00:00<?, ?it/s]"
      ]
     },
     "metadata": {},
     "output_type": "display_data"
    },
    {
     "data": {
      "application/vnd.jupyter.widget-view+json": {
       "model_id": "",
       "version_major": 2,
       "version_minor": 0
      },
      "text/plain": [
       "Render widgets:   0%|          | 0/1 [00:00<?, ?it/s]"
      ]
     },
     "metadata": {},
     "output_type": "display_data"
    },
    {
     "data": {
      "application/vnd.jupyter.widget-view+json": {
       "model_id": "42882873293a426ca787e479361e4483",
       "version_major": 2,
       "version_minor": 0
      },
      "text/plain": [
       "VBox(children=(Tab(children=(Tab(children=(GridBox(children=(VBox(children=(GridspecLayout(children=(HTML(valu…"
      ]
     },
     "metadata": {},
     "output_type": "display_data"
    }
   ],
   "source": [
    "profile_report.to_widgets()"
   ]
  },
  {
   "cell_type": "code",
   "execution_count": null,
   "id": "13deaf65",
   "metadata": {},
   "outputs": [],
   "source": [
    "profile_report.to_file(\"data_profile_report.html\")\n"
   ]
  },
  {
   "cell_type": "code",
   "execution_count": null,
   "id": "fd9d43d7",
   "metadata": {},
   "outputs": [],
   "source": []
  }
 ],
 "metadata": {
  "kernelspec": {
   "display_name": "Python 3 (ipykernel)",
   "language": "python",
   "name": "python3"
  },
  "language_info": {
   "codemirror_mode": {
    "name": "ipython",
    "version": 3
   },
   "file_extension": ".py",
   "mimetype": "text/x-python",
   "name": "python",
   "nbconvert_exporter": "python",
   "pygments_lexer": "ipython3",
   "version": "3.10.7"
  }
 },
 "nbformat": 4,
 "nbformat_minor": 5
}
