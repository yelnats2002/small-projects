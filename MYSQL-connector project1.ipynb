{
 "cells": [
  {
   "cell_type": "markdown",
   "id": "c6c33b53",
   "metadata": {},
   "source": [
    "#  Importing libaries "
   ]
  },
  {
   "cell_type": "code",
   "execution_count": 1,
   "id": "9b838fab",
   "metadata": {},
   "outputs": [],
   "source": [
    "import mysql.connector\n",
    "import pandas as pd\n",
    "import csv"
   ]
  },
  {
   "cell_type": "markdown",
   "id": "6a26ce8b",
   "metadata": {},
   "source": [
    "# Connecting to the mysql server"
   ]
  },
  {
   "cell_type": "code",
   "execution_count": 3,
   "id": "9492ed5b",
   "metadata": {},
   "outputs": [
    {
     "name": "stdout",
     "output_type": "stream",
     "text": [
      "25\n"
     ]
    }
   ],
   "source": [
    "mydb=mysql.connector.connect(host='localhost',user='root',password=\"MYSQLpass1\")\n",
    "try:\n",
    "    print(mydb.connection_id)\n",
    "except:\n",
    "    print(\"enter correct details\")"
   ]
  },
  {
   "cell_type": "code",
   "execution_count": 4,
   "id": "e00786dd",
   "metadata": {},
   "outputs": [],
   "source": [
    "cu=mydb.cursor()"
   ]
  },
  {
   "cell_type": "markdown",
   "id": "f0bb924d",
   "metadata": {},
   "source": [
    "# Creation of database"
   ]
  },
  {
   "cell_type": "code",
   "execution_count": null,
   "id": "e4056f7a",
   "metadata": {},
   "outputs": [],
   "source": [
    "cur=mydb.cursor()\n",
    "cur.execute(\"create database mysqlproject1\")"
   ]
  },
  {
   "cell_type": "markdown",
   "id": "d7855985",
   "metadata": {},
   "source": [
    "# connecting to database\n",
    "# cursor() method"
   ]
  },
  {
   "cell_type": "code",
   "execution_count": 2,
   "id": "e7d44783",
   "metadata": {},
   "outputs": [],
   "source": [
    "mydb=mysql.connector.connect(host='localhost',user='root',password=\"MYSQLpass1\",database='mysqlproject1')\n",
    "cu=mydb.cursor()"
   ]
  },
  {
   "cell_type": "code",
   "execution_count": null,
   "id": "568cfdb7",
   "metadata": {},
   "outputs": [],
   "source": []
  },
  {
   "cell_type": "markdown",
   "id": "ce8ff6bc",
   "metadata": {},
   "source": [
    "# reading csv"
   ]
  },
  {
   "cell_type": "code",
   "execution_count": 15,
   "id": "111784d9",
   "metadata": {},
   "outputs": [
    {
     "data": {
      "text/html": [
       "<div>\n",
       "<style scoped>\n",
       "    .dataframe tbody tr th:only-of-type {\n",
       "        vertical-align: middle;\n",
       "    }\n",
       "\n",
       "    .dataframe tbody tr th {\n",
       "        vertical-align: top;\n",
       "    }\n",
       "\n",
       "    .dataframe thead th {\n",
       "        text-align: right;\n",
       "    }\n",
       "</style>\n",
       "<table border=\"1\" class=\"dataframe\">\n",
       "  <thead>\n",
       "    <tr style=\"text-align: right;\">\n",
       "      <th></th>\n",
       "      <th>School_ID</th>\n",
       "      <th>NAME_OF_SCHOOL</th>\n",
       "      <th>Elementary, Middle, or High School</th>\n",
       "      <th>Street_Address</th>\n",
       "      <th>City</th>\n",
       "      <th>State</th>\n",
       "      <th>ZIP_Code</th>\n",
       "      <th>Phone_Number</th>\n",
       "      <th>Link</th>\n",
       "      <th>Network_Manager</th>\n",
       "      <th>...</th>\n",
       "      <th>Freshman_on_Track_Rate__</th>\n",
       "      <th>X_COORDINATE</th>\n",
       "      <th>Y_COORDINATE</th>\n",
       "      <th>Latitude</th>\n",
       "      <th>Longitude</th>\n",
       "      <th>COMMUNITY_AREA_NUMBER</th>\n",
       "      <th>COMMUNITY_AREA_NAME</th>\n",
       "      <th>Ward</th>\n",
       "      <th>Police_District</th>\n",
       "      <th>Location</th>\n",
       "    </tr>\n",
       "  </thead>\n",
       "  <tbody>\n",
       "    <tr>\n",
       "      <th>0</th>\n",
       "      <td>610038</td>\n",
       "      <td>Abraham Lincoln Elementary School</td>\n",
       "      <td>ES</td>\n",
       "      <td>615 W Kemper Pl</td>\n",
       "      <td>Chicago</td>\n",
       "      <td>IL</td>\n",
       "      <td>60614</td>\n",
       "      <td>(773) 534-5720</td>\n",
       "      <td>http://schoolreports.cps.edu/SchoolProgressRep...</td>\n",
       "      <td>Fullerton Elementary Network</td>\n",
       "      <td>...</td>\n",
       "      <td>NDA</td>\n",
       "      <td>1171699.458</td>\n",
       "      <td>1915829.428</td>\n",
       "      <td>41.924497</td>\n",
       "      <td>-87.644522</td>\n",
       "      <td>7</td>\n",
       "      <td>LINCOLN PARK</td>\n",
       "      <td>43</td>\n",
       "      <td>18</td>\n",
       "      <td>(41.92449696, -87.64452163)</td>\n",
       "    </tr>\n",
       "    <tr>\n",
       "      <th>1</th>\n",
       "      <td>610281</td>\n",
       "      <td>Adam Clayton Powell Paideia Community Academy ...</td>\n",
       "      <td>ES</td>\n",
       "      <td>7511 S South Shore Dr</td>\n",
       "      <td>Chicago</td>\n",
       "      <td>IL</td>\n",
       "      <td>60649</td>\n",
       "      <td>(773) 535-6650</td>\n",
       "      <td>http://schoolreports.cps.edu/SchoolProgressRep...</td>\n",
       "      <td>Skyway Elementary Network</td>\n",
       "      <td>...</td>\n",
       "      <td>NDA</td>\n",
       "      <td>1196129.985</td>\n",
       "      <td>1856209.466</td>\n",
       "      <td>41.760324</td>\n",
       "      <td>-87.556736</td>\n",
       "      <td>43</td>\n",
       "      <td>SOUTH SHORE</td>\n",
       "      <td>7</td>\n",
       "      <td>4</td>\n",
       "      <td>(41.76032435, -87.55673627)</td>\n",
       "    </tr>\n",
       "    <tr>\n",
       "      <th>2</th>\n",
       "      <td>610185</td>\n",
       "      <td>Adlai E Stevenson Elementary School</td>\n",
       "      <td>ES</td>\n",
       "      <td>8010 S Kostner Ave</td>\n",
       "      <td>Chicago</td>\n",
       "      <td>IL</td>\n",
       "      <td>60652</td>\n",
       "      <td>(773) 535-2280</td>\n",
       "      <td>http://schoolreports.cps.edu/SchoolProgressRep...</td>\n",
       "      <td>Midway Elementary Network</td>\n",
       "      <td>...</td>\n",
       "      <td>NDA</td>\n",
       "      <td>1148427.165</td>\n",
       "      <td>1851012.215</td>\n",
       "      <td>41.747111</td>\n",
       "      <td>-87.731702</td>\n",
       "      <td>70</td>\n",
       "      <td>ASHBURN</td>\n",
       "      <td>13</td>\n",
       "      <td>8</td>\n",
       "      <td>(41.74711093, -87.73170248)</td>\n",
       "    </tr>\n",
       "    <tr>\n",
       "      <th>3</th>\n",
       "      <td>609993</td>\n",
       "      <td>Agustin Lara Elementary Academy</td>\n",
       "      <td>ES</td>\n",
       "      <td>4619 S Wolcott Ave</td>\n",
       "      <td>Chicago</td>\n",
       "      <td>IL</td>\n",
       "      <td>60609</td>\n",
       "      <td>(773) 535-4389</td>\n",
       "      <td>http://schoolreports.cps.edu/SchoolProgressRep...</td>\n",
       "      <td>Pershing Elementary Network</td>\n",
       "      <td>...</td>\n",
       "      <td>NDA</td>\n",
       "      <td>1164504.290</td>\n",
       "      <td>1873959.199</td>\n",
       "      <td>41.809757</td>\n",
       "      <td>-87.672145</td>\n",
       "      <td>61</td>\n",
       "      <td>NEW CITY</td>\n",
       "      <td>20</td>\n",
       "      <td>9</td>\n",
       "      <td>(41.8097569, -87.6721446)</td>\n",
       "    </tr>\n",
       "    <tr>\n",
       "      <th>4</th>\n",
       "      <td>610513</td>\n",
       "      <td>Air Force Academy High School</td>\n",
       "      <td>HS</td>\n",
       "      <td>3630 S Wells St</td>\n",
       "      <td>Chicago</td>\n",
       "      <td>IL</td>\n",
       "      <td>60609</td>\n",
       "      <td>(773) 535-1590</td>\n",
       "      <td>http://schoolreports.cps.edu/SchoolProgressRep...</td>\n",
       "      <td>Southwest Side High School Network</td>\n",
       "      <td>...</td>\n",
       "      <td>91.8</td>\n",
       "      <td>1175177.622</td>\n",
       "      <td>1880745.126</td>\n",
       "      <td>41.828146</td>\n",
       "      <td>-87.632794</td>\n",
       "      <td>34</td>\n",
       "      <td>ARMOUR SQUARE</td>\n",
       "      <td>11</td>\n",
       "      <td>9</td>\n",
       "      <td>(41.82814609, -87.63279369)</td>\n",
       "    </tr>\n",
       "  </tbody>\n",
       "</table>\n",
       "<p>5 rows × 78 columns</p>\n",
       "</div>"
      ],
      "text/plain": [
       "   School_ID                                     NAME_OF_SCHOOL  \\\n",
       "0     610038                  Abraham Lincoln Elementary School   \n",
       "1     610281  Adam Clayton Powell Paideia Community Academy ...   \n",
       "2     610185                Adlai E Stevenson Elementary School   \n",
       "3     609993                    Agustin Lara Elementary Academy   \n",
       "4     610513                      Air Force Academy High School   \n",
       "\n",
       "  Elementary, Middle, or High School         Street_Address     City State  \\\n",
       "0                                 ES        615 W Kemper Pl  Chicago    IL   \n",
       "1                                 ES  7511 S South Shore Dr  Chicago    IL   \n",
       "2                                 ES     8010 S Kostner Ave  Chicago    IL   \n",
       "3                                 ES     4619 S Wolcott Ave  Chicago    IL   \n",
       "4                                 HS        3630 S Wells St  Chicago    IL   \n",
       "\n",
       "   ZIP_Code    Phone_Number  \\\n",
       "0     60614  (773) 534-5720   \n",
       "1     60649  (773) 535-6650   \n",
       "2     60652  (773) 535-2280   \n",
       "3     60609  (773) 535-4389   \n",
       "4     60609  (773) 535-1590   \n",
       "\n",
       "                                                Link  \\\n",
       "0  http://schoolreports.cps.edu/SchoolProgressRep...   \n",
       "1  http://schoolreports.cps.edu/SchoolProgressRep...   \n",
       "2  http://schoolreports.cps.edu/SchoolProgressRep...   \n",
       "3  http://schoolreports.cps.edu/SchoolProgressRep...   \n",
       "4  http://schoolreports.cps.edu/SchoolProgressRep...   \n",
       "\n",
       "                      Network_Manager  ... Freshman_on_Track_Rate__  \\\n",
       "0        Fullerton Elementary Network  ...                      NDA   \n",
       "1           Skyway Elementary Network  ...                      NDA   \n",
       "2           Midway Elementary Network  ...                      NDA   \n",
       "3         Pershing Elementary Network  ...                      NDA   \n",
       "4  Southwest Side High School Network  ...                     91.8   \n",
       "\n",
       "  X_COORDINATE Y_COORDINATE   Latitude  Longitude COMMUNITY_AREA_NUMBER  \\\n",
       "0  1171699.458  1915829.428  41.924497 -87.644522                     7   \n",
       "1  1196129.985  1856209.466  41.760324 -87.556736                    43   \n",
       "2  1148427.165  1851012.215  41.747111 -87.731702                    70   \n",
       "3  1164504.290  1873959.199  41.809757 -87.672145                    61   \n",
       "4  1175177.622  1880745.126  41.828146 -87.632794                    34   \n",
       "\n",
       "  COMMUNITY_AREA_NAME  Ward Police_District                     Location  \n",
       "0        LINCOLN PARK    43              18  (41.92449696, -87.64452163)  \n",
       "1         SOUTH SHORE     7               4  (41.76032435, -87.55673627)  \n",
       "2             ASHBURN    13               8  (41.74711093, -87.73170248)  \n",
       "3            NEW CITY    20               9    (41.8097569, -87.6721446)  \n",
       "4       ARMOUR SQUARE    11               9  (41.82814609, -87.63279369)  \n",
       "\n",
       "[5 rows x 78 columns]"
      ]
     },
     "execution_count": 15,
     "metadata": {},
     "output_type": "execute_result"
    }
   ],
   "source": [
    "a=pd.read_csv('ChicagoPublicSchools.csv')\n",
    "a.head()"
   ]
  },
  {
   "cell_type": "code",
   "execution_count": 8,
   "id": "f3bb9f88",
   "metadata": {},
   "outputs": [
    {
     "data": {
      "text/html": [
       "<div>\n",
       "<style scoped>\n",
       "    .dataframe tbody tr th:only-of-type {\n",
       "        vertical-align: middle;\n",
       "    }\n",
       "\n",
       "    .dataframe tbody tr th {\n",
       "        vertical-align: top;\n",
       "    }\n",
       "\n",
       "    .dataframe thead th {\n",
       "        text-align: right;\n",
       "    }\n",
       "</style>\n",
       "<table border=\"1\" class=\"dataframe\">\n",
       "  <thead>\n",
       "    <tr style=\"text-align: right;\">\n",
       "      <th></th>\n",
       "      <th>COMMUNITY_AREA_NUMBER</th>\n",
       "      <th>COMMUNITY_AREA_NAME</th>\n",
       "      <th>PERCENT_OF_HOUSING_CROWDED</th>\n",
       "      <th>PERCENT_HOUSEHOLDS_BELOW_POVERTY</th>\n",
       "      <th>PERCENT_AGED_16__UNEMPLOYED</th>\n",
       "      <th>PERCENT_AGED_25__WITHOUT_HIGH_SCHOOL_DIPLOMA</th>\n",
       "      <th>PERCENT_AGED_UNDER_18_OR_OVER_64</th>\n",
       "      <th>PER_CAPITA_INCOME</th>\n",
       "      <th>HARDSHIP_INDEX</th>\n",
       "    </tr>\n",
       "  </thead>\n",
       "  <tbody>\n",
       "    <tr>\n",
       "      <th>0</th>\n",
       "      <td>1.0</td>\n",
       "      <td>Rogers Park</td>\n",
       "      <td>7.7</td>\n",
       "      <td>23.6</td>\n",
       "      <td>8.7</td>\n",
       "      <td>18.2</td>\n",
       "      <td>27.5</td>\n",
       "      <td>23939</td>\n",
       "      <td>39.0</td>\n",
       "    </tr>\n",
       "    <tr>\n",
       "      <th>1</th>\n",
       "      <td>2.0</td>\n",
       "      <td>West Ridge</td>\n",
       "      <td>7.8</td>\n",
       "      <td>17.2</td>\n",
       "      <td>8.8</td>\n",
       "      <td>20.8</td>\n",
       "      <td>38.5</td>\n",
       "      <td>23040</td>\n",
       "      <td>46.0</td>\n",
       "    </tr>\n",
       "    <tr>\n",
       "      <th>2</th>\n",
       "      <td>3.0</td>\n",
       "      <td>Uptown</td>\n",
       "      <td>3.8</td>\n",
       "      <td>24.0</td>\n",
       "      <td>8.9</td>\n",
       "      <td>11.8</td>\n",
       "      <td>22.2</td>\n",
       "      <td>35787</td>\n",
       "      <td>20.0</td>\n",
       "    </tr>\n",
       "    <tr>\n",
       "      <th>3</th>\n",
       "      <td>4.0</td>\n",
       "      <td>Lincoln Square</td>\n",
       "      <td>3.4</td>\n",
       "      <td>10.9</td>\n",
       "      <td>8.2</td>\n",
       "      <td>13.4</td>\n",
       "      <td>25.5</td>\n",
       "      <td>37524</td>\n",
       "      <td>17.0</td>\n",
       "    </tr>\n",
       "    <tr>\n",
       "      <th>4</th>\n",
       "      <td>5.0</td>\n",
       "      <td>North Center</td>\n",
       "      <td>0.3</td>\n",
       "      <td>7.5</td>\n",
       "      <td>5.2</td>\n",
       "      <td>4.5</td>\n",
       "      <td>26.2</td>\n",
       "      <td>57123</td>\n",
       "      <td>6.0</td>\n",
       "    </tr>\n",
       "  </tbody>\n",
       "</table>\n",
       "</div>"
      ],
      "text/plain": [
       "   COMMUNITY_AREA_NUMBER COMMUNITY_AREA_NAME  PERCENT_OF_HOUSING_CROWDED  \\\n",
       "0                    1.0         Rogers Park                         7.7   \n",
       "1                    2.0          West Ridge                         7.8   \n",
       "2                    3.0              Uptown                         3.8   \n",
       "3                    4.0      Lincoln Square                         3.4   \n",
       "4                    5.0        North Center                         0.3   \n",
       "\n",
       "   PERCENT_HOUSEHOLDS_BELOW_POVERTY  PERCENT_AGED_16__UNEMPLOYED  \\\n",
       "0                              23.6                          8.7   \n",
       "1                              17.2                          8.8   \n",
       "2                              24.0                          8.9   \n",
       "3                              10.9                          8.2   \n",
       "4                               7.5                          5.2   \n",
       "\n",
       "   PERCENT_AGED_25__WITHOUT_HIGH_SCHOOL_DIPLOMA  \\\n",
       "0                                          18.2   \n",
       "1                                          20.8   \n",
       "2                                          11.8   \n",
       "3                                          13.4   \n",
       "4                                           4.5   \n",
       "\n",
       "   PERCENT_AGED_UNDER_18_OR_OVER_64  PER_CAPITA_INCOME  HARDSHIP_INDEX  \n",
       "0                              27.5              23939            39.0  \n",
       "1                              38.5              23040            46.0  \n",
       "2                              22.2              35787            20.0  \n",
       "3                              25.5              37524            17.0  \n",
       "4                              26.2              57123             6.0  "
      ]
     },
     "execution_count": 8,
     "metadata": {},
     "output_type": "execute_result"
    }
   ],
   "source": [
    "b=pd.read_csv('ChicagoCensusData.csv')\n",
    "b.head()"
   ]
  },
  {
   "cell_type": "code",
   "execution_count": 3,
   "id": "f98aa16f",
   "metadata": {},
   "outputs": [
    {
     "data": {
      "text/html": [
       "<div>\n",
       "<style scoped>\n",
       "    .dataframe tbody tr th:only-of-type {\n",
       "        vertical-align: middle;\n",
       "    }\n",
       "\n",
       "    .dataframe tbody tr th {\n",
       "        vertical-align: top;\n",
       "    }\n",
       "\n",
       "    .dataframe thead th {\n",
       "        text-align: right;\n",
       "    }\n",
       "</style>\n",
       "<table border=\"1\" class=\"dataframe\">\n",
       "  <thead>\n",
       "    <tr style=\"text-align: right;\">\n",
       "      <th></th>\n",
       "      <th>ID</th>\n",
       "      <th>CASE_NUMBER</th>\n",
       "      <th>DATE</th>\n",
       "      <th>BLOCK</th>\n",
       "      <th>IUCR</th>\n",
       "      <th>PRIMARY_TYPE</th>\n",
       "      <th>DESCRIPTION</th>\n",
       "      <th>LOCATION_DESCRIPTION</th>\n",
       "      <th>ARREST</th>\n",
       "      <th>DOMESTIC</th>\n",
       "      <th>...</th>\n",
       "      <th>DISTRICT</th>\n",
       "      <th>WARD</th>\n",
       "      <th>COMMUNITY_AREA_NUMBER</th>\n",
       "      <th>FBICODE</th>\n",
       "      <th>X_COORDINATE</th>\n",
       "      <th>Y_COORDINATE</th>\n",
       "      <th>YEAR</th>\n",
       "      <th>LATITUDE</th>\n",
       "      <th>LONGITUDE</th>\n",
       "      <th>LOCATION</th>\n",
       "    </tr>\n",
       "  </thead>\n",
       "  <tbody>\n",
       "    <tr>\n",
       "      <th>0</th>\n",
       "      <td>3512276</td>\n",
       "      <td>HK587712</td>\n",
       "      <td>2004-08-28</td>\n",
       "      <td>047XX S KEDZIE AVE</td>\n",
       "      <td>890</td>\n",
       "      <td>THEFT</td>\n",
       "      <td>FROM BUILDING</td>\n",
       "      <td>SMALL RETAIL STORE</td>\n",
       "      <td>False</td>\n",
       "      <td>False</td>\n",
       "      <td>...</td>\n",
       "      <td>9</td>\n",
       "      <td>14.0</td>\n",
       "      <td>58.0</td>\n",
       "      <td>6</td>\n",
       "      <td>1155838.0</td>\n",
       "      <td>1873050.0</td>\n",
       "      <td>2004</td>\n",
       "      <td>41.807440</td>\n",
       "      <td>-87.703956</td>\n",
       "      <td>(41.8074405, -87.703955849)</td>\n",
       "    </tr>\n",
       "    <tr>\n",
       "      <th>1</th>\n",
       "      <td>3406613</td>\n",
       "      <td>HK456306</td>\n",
       "      <td>2004-06-26</td>\n",
       "      <td>009XX N CENTRAL PARK AVE</td>\n",
       "      <td>820</td>\n",
       "      <td>THEFT</td>\n",
       "      <td>$500 AND UNDER</td>\n",
       "      <td>OTHER</td>\n",
       "      <td>False</td>\n",
       "      <td>False</td>\n",
       "      <td>...</td>\n",
       "      <td>11</td>\n",
       "      <td>27.0</td>\n",
       "      <td>23.0</td>\n",
       "      <td>6</td>\n",
       "      <td>1152206.0</td>\n",
       "      <td>1906127.0</td>\n",
       "      <td>2004</td>\n",
       "      <td>41.898280</td>\n",
       "      <td>-87.716406</td>\n",
       "      <td>(41.898279962, -87.716405505)</td>\n",
       "    </tr>\n",
       "    <tr>\n",
       "      <th>2</th>\n",
       "      <td>8002131</td>\n",
       "      <td>HT233595</td>\n",
       "      <td>2011-04-04</td>\n",
       "      <td>043XX S WABASH AVE</td>\n",
       "      <td>820</td>\n",
       "      <td>THEFT</td>\n",
       "      <td>$500 AND UNDER</td>\n",
       "      <td>NURSING HOME/RETIREMENT HOME</td>\n",
       "      <td>False</td>\n",
       "      <td>False</td>\n",
       "      <td>...</td>\n",
       "      <td>2</td>\n",
       "      <td>3.0</td>\n",
       "      <td>38.0</td>\n",
       "      <td>6</td>\n",
       "      <td>1177436.0</td>\n",
       "      <td>1876313.0</td>\n",
       "      <td>2011</td>\n",
       "      <td>41.815933</td>\n",
       "      <td>-87.624642</td>\n",
       "      <td>(41.815933131, -87.624642127)</td>\n",
       "    </tr>\n",
       "    <tr>\n",
       "      <th>3</th>\n",
       "      <td>7903289</td>\n",
       "      <td>HT133522</td>\n",
       "      <td>2010-12-30</td>\n",
       "      <td>083XX S KINGSTON AVE</td>\n",
       "      <td>840</td>\n",
       "      <td>THEFT</td>\n",
       "      <td>FINANCIAL ID THEFT: OVER $300</td>\n",
       "      <td>RESIDENCE</td>\n",
       "      <td>False</td>\n",
       "      <td>False</td>\n",
       "      <td>...</td>\n",
       "      <td>4</td>\n",
       "      <td>7.0</td>\n",
       "      <td>46.0</td>\n",
       "      <td>6</td>\n",
       "      <td>1194622.0</td>\n",
       "      <td>1850125.0</td>\n",
       "      <td>2010</td>\n",
       "      <td>41.743665</td>\n",
       "      <td>-87.562463</td>\n",
       "      <td>(41.743665322, -87.562462756)</td>\n",
       "    </tr>\n",
       "    <tr>\n",
       "      <th>4</th>\n",
       "      <td>10402076</td>\n",
       "      <td>HZ138551</td>\n",
       "      <td>2016-02-02</td>\n",
       "      <td>033XX W 66TH ST</td>\n",
       "      <td>820</td>\n",
       "      <td>THEFT</td>\n",
       "      <td>$500 AND UNDER</td>\n",
       "      <td>ALLEY</td>\n",
       "      <td>False</td>\n",
       "      <td>False</td>\n",
       "      <td>...</td>\n",
       "      <td>8</td>\n",
       "      <td>15.0</td>\n",
       "      <td>66.0</td>\n",
       "      <td>6</td>\n",
       "      <td>1155240.0</td>\n",
       "      <td>1860661.0</td>\n",
       "      <td>2016</td>\n",
       "      <td>41.773455</td>\n",
       "      <td>-87.706480</td>\n",
       "      <td>(41.773455295, -87.706480471)</td>\n",
       "    </tr>\n",
       "  </tbody>\n",
       "</table>\n",
       "<p>5 rows × 21 columns</p>\n",
       "</div>"
      ],
      "text/plain": [
       "         ID CASE_NUMBER        DATE                     BLOCK IUCR  \\\n",
       "0   3512276    HK587712  2004-08-28        047XX S KEDZIE AVE  890   \n",
       "1   3406613    HK456306  2004-06-26  009XX N CENTRAL PARK AVE  820   \n",
       "2   8002131    HT233595  2011-04-04        043XX S WABASH AVE  820   \n",
       "3   7903289    HT133522  2010-12-30      083XX S KINGSTON AVE  840   \n",
       "4  10402076    HZ138551  2016-02-02           033XX W 66TH ST  820   \n",
       "\n",
       "  PRIMARY_TYPE                    DESCRIPTION          LOCATION_DESCRIPTION  \\\n",
       "0        THEFT                  FROM BUILDING            SMALL RETAIL STORE   \n",
       "1        THEFT                 $500 AND UNDER                         OTHER   \n",
       "2        THEFT                 $500 AND UNDER  NURSING HOME/RETIREMENT HOME   \n",
       "3        THEFT  FINANCIAL ID THEFT: OVER $300                     RESIDENCE   \n",
       "4        THEFT                 $500 AND UNDER                         ALLEY   \n",
       "\n",
       "   ARREST  DOMESTIC  ...  DISTRICT  WARD  COMMUNITY_AREA_NUMBER  FBICODE  \\\n",
       "0   False     False  ...         9  14.0                   58.0        6   \n",
       "1   False     False  ...        11  27.0                   23.0        6   \n",
       "2   False     False  ...         2   3.0                   38.0        6   \n",
       "3   False     False  ...         4   7.0                   46.0        6   \n",
       "4   False     False  ...         8  15.0                   66.0        6   \n",
       "\n",
       "  X_COORDINATE  Y_COORDINATE  YEAR   LATITUDE  LONGITUDE  \\\n",
       "0    1155838.0     1873050.0  2004  41.807440 -87.703956   \n",
       "1    1152206.0     1906127.0  2004  41.898280 -87.716406   \n",
       "2    1177436.0     1876313.0  2011  41.815933 -87.624642   \n",
       "3    1194622.0     1850125.0  2010  41.743665 -87.562463   \n",
       "4    1155240.0     1860661.0  2016  41.773455 -87.706480   \n",
       "\n",
       "                        LOCATION  \n",
       "0    (41.8074405, -87.703955849)  \n",
       "1  (41.898279962, -87.716405505)  \n",
       "2  (41.815933131, -87.624642127)  \n",
       "3  (41.743665322, -87.562462756)  \n",
       "4  (41.773455295, -87.706480471)  \n",
       "\n",
       "[5 rows x 21 columns]"
      ]
     },
     "execution_count": 3,
     "metadata": {},
     "output_type": "execute_result"
    }
   ],
   "source": [
    "c=pd.read_csv('ChicagoCrimeData.csv')\n",
    "c.head()"
   ]
  },
  {
   "cell_type": "markdown",
   "id": "c0565ddf",
   "metadata": {},
   "source": [
    " # cleaning columns using python for easy inserting"
   ]
  },
  {
   "cell_type": "code",
   "execution_count": 35,
   "id": "674a9a74",
   "metadata": {},
   "outputs": [
    {
     "name": "stdout",
     "output_type": "stream",
     "text": [
      "School_ID , NAME_OF_SCHOOL , Elementary_Middle_or_High_School , Street_Address , City , State , ZIP_Code , Phone_Number , Link , Network_Manager , Collaborative_Name , Adequate_Yearly_Progress_Made_ , Track_Schedule , CPS_Performance_Policy_Status , CPS_Performance_Policy_Level , HEALTHY_SCHOOL_CERTIFIED , Safety_Icon , SAFETY_SCORE , Family_Involvement_Icon , Family_Involvement_Score , Environment_Icon , Environment_Score , Instruction_Icon , Instruction_Score , Leaders_Icon , Leaders_Score , Teachers_Icon , Teachers_Score , Parent_Engagement_Icon , Parent_Engagement_Score , Parent_Environment_Icon , Parent_Environment_Score , AVERAGE_STUDENT_ATTENDANCE , Rate_of_Misconducts__per_100_students_ , Average_Teacher_Attendance , Individualized_Education_Program_Compliance_Rate , Pk_2_Literacy__ , Pk_2_Math__ , Gr3_5_Grade_Level_Math__ , Gr3_5_Grade_Level_Read__ , Gr3_5_Keep_Pace_Read__ , Gr3_5_Keep_Pace_Math__ , Gr6_8_Grade_Level_Math__ , Gr6_8_Grade_Level_Read__ , Gr6_8_Keep_Pace_Math_ , Gr6_8_Keep_Pace_Read__ , Gr_8_Explore_Math__ , Gr_8_Explore_Read__ , ISAT_Exceeding_Math__ , ISAT_Exceeding_Reading__ , ISAT_Value_Add_Math , ISAT_Value_Add_Read , ISAT_Value_Add_Color_Math , ISAT_Value_Add_Color_Read , Students_Taking__Algebra__ , Students_Passing__Algebra__ , 9th_Grade_EXPLORE_2009 , 9th_Grade_EXPLORE_2010 , 10th_Grade_PLAN_2009 , 10th_Grade_PLAN_2010) , Net_Change_EXPLORE_and_PLAN , 11th_Grade_Average_ACT_2011 , Net_Change_PLAN_and_ACT , College_Eligibility__ , Graduation_Rate__ , College_Enrollment_Rate__ , COLLEGE_ENROLLMENT , General_Services_Route , Freshman_on_Track_Rate__ , X_COORDINATE , Y_COORDINATE , Latitude , Longitude , COMMUNITY_AREA_NUMBER , COMMUNITY_AREA_NAME , Ward , Police_District , Location\n"
     ]
    }
   ],
   "source": [
    "original_string = \"School_ID    NAME_OF_SCHOOL  Elementary_Middle_or_High_School\tStreet_Address\tCity\tState\tZIP_Code\tPhone_Number\tLink\tNetwork_Manager\tCollaborative_Name\tAdequate_Yearly_Progress_Made_\tTrack_Schedule\tCPS_Performance_Policy_Status\tCPS_Performance_Policy_Level\tHEALTHY_SCHOOL_CERTIFIED\tSafety_Icon\tSAFETY_SCORE\tFamily_Involvement_Icon\tFamily_Involvement_Score\tEnvironment_Icon\tEnvironment_Score\tInstruction_Icon\tInstruction_Score\tLeaders_Icon\tLeaders_Score\tTeachers_Icon\tTeachers_Score\tParent_Engagement_Icon\tParent_Engagement_Score\tParent_Environment_Icon\tParent_Environment_Score\tAVERAGE_STUDENT_ATTENDANCE\tRate_of_Misconducts__per_100_students_\tAverage_Teacher_Attendance\tIndividualized_Education_Program_Compliance_Rate\tPk_2_Literacy__\tPk_2_Math__\tGr3_5_Grade_Level_Math__\tGr3_5_Grade_Level_Read__\tGr3_5_Keep_Pace_Read__\tGr3_5_Keep_Pace_Math__\tGr6_8_Grade_Level_Math__\tGr6_8_Grade_Level_Read__\tGr6_8_Keep_Pace_Math_\tGr6_8_Keep_Pace_Read__\tGr_8_Explore_Math__\tGr_8_Explore_Read__\tISAT_Exceeding_Math__\tISAT_Exceeding_Reading__\tISAT_Value_Add_Math\tISAT_Value_Add_Read\tISAT_Value_Add_Color_Math\tISAT_Value_Add_Color_Read\tStudents_Taking__Algebra__\tStudents_Passing__Algebra__\t9th Grade EXPLORE (2009)\t9th Grade EXPLORE (2010)\t10th Grade PLAN (2009)\t10th Grade PLAN (2010)\tNet_Change_EXPLORE_and_PLAN\t11th Grade Average ACT (2011)\tNet_Change_PLAN_and_ACT\tCollege_Eligibility__\tGraduation_Rate__\tCollege_Enrollment_Rate__\tCOLLEGE_ENROLLMENT\tGeneral_Services_Route\tFreshman_on_Track_Rate__\tX_COORDINATE\tY_COORDINATE\tLatitude\tLongitude\tCOMMUNITY_AREA_NUMBER\tCOMMUNITY_AREA_NAME\tWard\tPolice_District\tLocation\"\n",
    "cleaned_string = ' '.join(original_string.split())\n",
    "b=cleaned_string.replace(\"9th Grade EXPLORE (2009)\" ,'9th_Grade_EXPLORE_2009')\n",
    "c=b.replace(\"9th Grade EXPLORE (2010)\" ,'9th_Grade_EXPLORE_2010')\n",
    "d=c.replace(\"10th Grade PLAN (2009)\" ,'10th_Grade_PLAN_2009')\n",
    "e=d.replace(\"10th Grade PLAN (2010\" ,'10th_Grade_PLAN_2010')\n",
    "f=e.replace(\"11th Grade Average ACT (2011)\" ,'11th_Grade_Average_ACT_2011')\n",
    "string_for_table_creation = f.replace(\" \" ,' Varchar(100), ')\n",
    "string_for_insert=f.replace(\" \" ,' , ')\n",
    "print(string_for_insert)"
   ]
  },
  {
   "cell_type": "code",
   "execution_count": 32,
   "id": "a9064035",
   "metadata": {},
   "outputs": [
    {
     "name": "stdout",
     "output_type": "stream",
     "text": [
      "78 total number of columns\n",
      "%s,%s,%s,%s,%s,%s,%s,%s,%s,%s,%s,%s,%s,%s,%s,%s,%s,%s,%s,%s,%s,%s,%s,%s,%s,%s,%s,%s,%s,%s,%s,%s,%s,%s,%s,%s,%s,%s,%s,%s,%s,%s,%s,%s,%s,%s,%s,%s,%s,%s,%s,%s,%s,%s,%s,%s,%s,%s,%s,%s,%s,%s,%s,%s,%s,%s,%s,%s,%s,%s,%s,%s,%s,%s,%s,%s,%s,%s,\n"
     ]
    }
   ],
   "source": [
    "string = \"School_ID,NAME_OF_SCHOOL,Elementary_Middle_or_High_School,Street_Address,City,State,ZIP_Code,Phone_Number,Link,Network_Manager,Collaborative_Name,Adequate_Yearly_Progress_Made_,Track_Schedule,CPS_Performance_Policy_Status,CPS_Performance_Policy_Level,HEALTHY_SCHOOL_CERTIFIED,Safety_Icon,SAFETY_SCORE,Family_Involvement_Icon,Family_Involvement_Score,Environment_Icon,Environment_Score,Instruction_Icon,Instruction_Score,Leaders_Icon,Leaders_Score,Teachers_Icon,Teachers_Score,Parent_Engagement_Icon,Parent_Engagement_Score,Parent_Environment_Icon,Parent_Environment_Score,AVERAGE_STUDENT_ATTENDANCE,Rate_of_Misconducts__per_100_students_,Average_Teacher_Attendance,Individualized_Education_Program_Compliance_Rate,Pk_2_Literacy__,Pk_2_Math__,Gr3_5_Grade_Level_Math__,Gr3_5_Grade_Level_Read__,Gr3_5_Keep_Pace_Read__,Gr3_5_Keep_Pace_Math__,Gr6_8_Grade_Level_Math__,Gr6_8_Grade_Level_Read__,Gr6_8_Keep_Pace_Math_,Gr6_8_Keep_Pace_Read__,Gr_8_Explore_Math__,Gr_8_Explore_Read__,ISAT_Exceeding_Math__,ISAT_Exceeding_Reading__,ISAT_Value_Add_Math,ISAT_Value_Add_Read,ISAT_Value_Add_Color_Math,ISAT_Value_Add_Color_Read,Students_Taking__Algebra__,Students_Passing__Algebra__,9th_Grade_EXPLORE_2009,9th_Grade_EXPLORE_2010,10th_Grade_PLAN_2009,10th_Grade_PLAN_2010),Net_Change_EXPLORE_and_PLAN,11th_Grade_Average_ACT_2011,Net_Change_PLAN_and_ACT,College_Eligibility__,Graduation_Rate__,College_Enrollment_Rate__,COLLEGE_ENROLLMENT,General_Services_Route,Freshman_on_Track_Rate__,X_COORDINATE,Y_COORDINATE,Latitude,Longitude,COMMUNITY_AREA_NUMBER,COMMUNITY_AREA_NAME,Ward,Police_District,Location\"\n",
    "\n",
    "count = 0\n",
    "for char in string:\n",
    "    if char == ',':\n",
    "        count += 1\n",
    "\n",
    "print(count+1,'total number of columns')\n",
    "print('%s,'*78)"
   ]
  },
  {
   "cell_type": "code",
   "execution_count": 10,
   "id": "aa1faa9f",
   "metadata": {},
   "outputs": [
    {
     "name": "stdout",
     "output_type": "stream",
     "text": [
      "ID,CASE_NUMBER,DATE,BLOCK,IUCR,PRIMARY_TYPE,DESCRIPTION,LOCATION_DESCRIPTION,ARREST,DOMESTIC,DISTRICT,WARD,COMMUNITY_AREA_NUMBER,FBICODE,X_COORDINATE,Y_COORDINATE,YEAR,LATITUDE,LONGITUDE,LOCATION\n"
     ]
    }
   ],
   "source": [
    "crime_column=\"ID\tCASE_NUMBER\tDATE\tBLOCK\tIUCR\tPRIMARY_TYPE\tDESCRIPTION\tLOCATION_DESCRIPTION\tARREST\tDOMESTIC\t...\tDISTRICT\tWARD\tCOMMUNITY_AREA_NUMBER\tFBICODE\tX_COORDINATE\tY_COORDINATE\tYEAR\tLATITUDE\tLONGITUDE\tLOCATION\"\n",
    "cr=crime_column.replace('\t',',')\n",
    "crime=cr.replace('...,' ,'')\n",
    "print(crime)"
   ]
  },
  {
   "cell_type": "markdown",
   "id": "f9b0fb2c",
   "metadata": {},
   "source": [
    "# creation of table"
   ]
  },
  {
   "cell_type": "markdown",
   "id": "7213a0b9",
   "metadata": {},
   "source": [
    "### #dataset a"
   ]
  },
  {
   "cell_type": "code",
   "execution_count": 18,
   "id": "ef87fe99",
   "metadata": {},
   "outputs": [
    {
     "data": {
      "text/plain": [
       "<bound method CMySQLConnection.commit of <mysql.connector.connection_cext.CMySQLConnection object at 0x0000017D3CBFE1D0>>"
      ]
     },
     "execution_count": 18,
     "metadata": {},
     "output_type": "execute_result"
    }
   ],
   "source": [
    "cy=mydb.cursor()\n",
    "cu.execute(\"create table schools(School_ID Varchar(100),NAME_OF_SCHOOL Varchar(100),Elementary_Middle_or_High_School Varchar(100),Street_Address Varchar(100),City Varchar(100),State Varchar(100),ZIP_Code Varchar(100),Phone_Number Varchar(100),Link Varchar(100),Network_Manager Varchar(100),Collaborative_Name Varchar(100),Adequate_Yearly_Progress_Made_ Varchar(100),Track_Schedule Varchar(100),CPS_Performance_Policy_Status Varchar(100),CPS_Performance_Policy_Level Varchar(100),HEALTHY_SCHOOL_CERTIFIED Varchar(100),Safety_Icon Varchar(100),SAFETY_SCORE Varchar(100),Family_Involvement_Icon Varchar(100),Family_Involvement_Score Varchar(100),Environment_Icon Varchar(100),Environment_Score Varchar(100),Instruction_Icon Varchar(100),Instruction_Score Varchar(100),Leaders_Icon Varchar(100),Leaders_Score Varchar(100),Teachers_Icon Varchar(100),Teachers_Score Varchar(100),Parent_Engagement_Icon Varchar(100),Parent_Engagement_Score Varchar(100),Parent_Environment_Icon Varchar(100),Parent_Environment_Score Varchar(100),AVERAGE_STUDENT_ATTENDANCE Varchar(100),Rate_of_Misconducts__per_100_students_ Varchar(100),Average_Teacher_Attendance Varchar(100),Individualized_Education_Program_Compliance_Rate Varchar(100),Pk_2_Literacy__ Varchar(100),Pk_2_Math__ Varchar(100),Gr3_5_Grade_Level_Math__ Varchar(100),Gr3_5_Grade_Level_Read__ Varchar(100),Gr3_5_Keep_Pace_Read__ Varchar(100),Gr3_5_Keep_Pace_Math__ Varchar(100),Gr6_8_Grade_Level_Math__ Varchar(100),Gr6_8_Grade_Level_Read__ Varchar(100),Gr6_8_Keep_Pace_Math_ Varchar(100),Gr6_8_Keep_Pace_Read__ Varchar(100),Gr_8_Explore_Math__ Varchar(100),Gr_8_Explore_Read__ Varchar(100),ISAT_Exceeding_Math__ Varchar(100),ISAT_Exceeding_Reading__ Varchar(100),ISAT_Value_Add_Math Varchar(100),ISAT_Value_Add_Read Varchar(100),ISAT_Value_Add_Color_Math Varchar(100),ISAT_Value_Add_Color_Read Varchar(100),Students_Taking__Algebra__ Varchar(100),Students_Passing__Algebra__ Varchar(100),9th_Grade_EXPLORE_2009 Varchar(100),9th_Grade_EXPLORE_2010 Varchar(100),10th_Grade_PLAN_2009 Varchar(100),10th_Grade_PLAN_2010 Varchar(100),Net_Change_EXPLORE_and_PLAN Varchar(100),11th_Grade_Average_ACT_2011 Varchar(100),Net_Change_PLAN_and_ACT Varchar(100),College_Eligibility__ Varchar(100),Graduation_Rate__ Varchar(100),College_Enrollment_Rate__ Varchar(100),COLLEGE_ENROLLMENT Varchar(100),General_Services_Route Varchar(100),Freshman_on_Track_Rate__ Varchar(100),X_COORDINATE Varchar(100),Y_COORDINATE Varchar(100),Latitude Varchar(100),Longitude Varchar(100),COMMUNITY_AREA_NUMBER Varchar(100),COMMUNITY_AREA_NAME Varchar(100),Ward Varchar(100),Police_District Varchar(100),Location varchar(100))\")\n",
    "mydb.commit"
   ]
  },
  {
   "cell_type": "markdown",
   "id": "3dcdee5c",
   "metadata": {},
   "source": [
    "### #dataset b"
   ]
  },
  {
   "cell_type": "code",
   "execution_count": null,
   "id": "e5fb1f01",
   "metadata": {},
   "outputs": [],
   "source": [
    "cu=mydb.cursor()\n",
    "cu.execute(\"create table census(COMMUNITY_AREA_NUMBER float primary key,COMMUNITY_AREA_NAME VARCHAR(100),PERCENT_OF_HOUSING_CROWDED float,PERCENT_HOUSEHOLDS_BELOW_POVERTY float,PERCENT_AGED_16__UNEMPLOYED float,PERCENT_AGED_25__WITHOUT_HIGH_SCHOOL_DIPLOMA float,PERCENT_AGED_UNDER_18_OR_OVER_64 float,PER_CAPITA_INCOME int,HARDSHIP_INDEX float(10))\")\n",
    "mydb.commit()"
   ]
  },
  {
   "cell_type": "markdown",
   "id": "65913bfa",
   "metadata": {},
   "source": [
    "### #dataset c"
   ]
  },
  {
   "cell_type": "code",
   "execution_count": 43,
   "id": "68354890",
   "metadata": {},
   "outputs": [],
   "source": [
    "cu=mydb.cursor()\n",
    "cu.execute(\"create table crime( ID int ,CASE_NUMBER char(100) ,date  DATE  ,BLOCK varchar(40) ,IUCR char(100) ,PRIMARY_TYPE char(100) ,DESCRIPTION varchar(100) ,LOCATION_DESCRIPTION varchar(100) ,ARREST  char(30) ,DOMESTIC char(30) ,BEAT INT,DISTRICT int , WARD char(100) NULL,COMMUNITY_AREA_NUMBER char(100) NULL ,FBICODE char(100) ,X_COORDINATE char(100) NULL ,Y_COORDINATE char(100) NULL ,year YEAR,LATITUDE varchar(100) ,LONGITUDE varchar(100),LOCATION varchar(100))\")\n",
    "mydb.commit()"
   ]
  },
  {
   "cell_type": "markdown",
   "id": "6a39d69e",
   "metadata": {},
   "source": [
    "# Alteration of table\n",
    "# commit() method"
   ]
  },
  {
   "cell_type": "code",
   "execution_count": null,
   "id": "3a5f0597",
   "metadata": {},
   "outputs": [],
   "source": [
    "r=cu.execute('alter table census modify column COMMUNITY_AREA_NUMBER VARCHAR(100)')\n",
    "try:\n",
    "    cu.execute(r)\n",
    "    mydb.commit()\n",
    "    print('sucessfully inserted')\n",
    "except:\n",
    "    mydb.rollback()\n",
    "    print(\"something went wrong\")"
   ]
  },
  {
   "cell_type": "code",
   "execution_count": 13,
   "id": "fd2bdb5a",
   "metadata": {},
   "outputs": [],
   "source": [
    "cu.execute('alter table census modify column HARDSHIP_INDEX varchar(100)')\n",
    "mydb.commit()"
   ]
  },
  {
   "cell_type": "markdown",
   "id": "aeae522d",
   "metadata": {},
   "source": [
    "# inserting values to the table\n",
    "# execute method()"
   ]
  },
  {
   "cell_type": "code",
   "execution_count": 39,
   "id": "bfdeef19",
   "metadata": {},
   "outputs": [
    {
     "name": "stdout",
     "output_type": "stream",
     "text": [
      "importing data\n"
     ]
    }
   ],
   "source": [
    "cu=mydb.cursor()\n",
    "csv_data2=csv.reader(open('ChicagoPublicSchools.csv'))\n",
    "header=next(csv_data2)\n",
    "print(\"importing data\")\n",
    "d=[(rows)]\n",
    "for rows in csv_data2:\n",
    "    d.append(rows)\n",
    "v=\"insert into schools(School_ID  ,NAME_OF_SCHOOL  ,Elementary_Middle_or_High_School  ,Street_Address  ,City  ,State  ,ZIP_Code  ,Phone_Number  ,Link  ,Network_Manager  ,Collaborative_Name  ,Adequate_Yearly_Progress_Made_  ,Track_Schedule  ,CPS_Performance_Policy_Status  ,CPS_Performance_Policy_Level  ,HEALTHY_SCHOOL_CERTIFIED  ,Safety_Icon  ,SAFETY_SCORE  ,Family_Involvement_Icon  ,Family_Involvement_Score  ,Environment_Icon  ,Environment_Score  ,Instruction_Icon  ,Instruction_Score  ,Leaders_Icon  ,Leaders_Score  ,Teachers_Icon  ,Teachers_Score  ,Parent_Engagement_Icon  ,Parent_Engagement_Score  ,Parent_Environment_Icon  ,Parent_Environment_Score  ,AVERAGE_STUDENT_ATTENDANCE  ,Rate_of_Misconducts__per_100_students_  ,Average_Teacher_Attendance  ,Individualized_Education_Program_Compliance_Rate  ,Pk_2_Literacy__  ,Pk_2_Math__  ,Gr3_5_Grade_Level_Math__  ,Gr3_5_Grade_Level_Read__  ,Gr3_5_Keep_Pace_Read__  ,Gr3_5_Keep_Pace_Math__  ,Gr6_8_Grade_Level_Math__  ,Gr6_8_Grade_Level_Read__  ,Gr6_8_Keep_Pace_Math_  ,Gr6_8_Keep_Pace_Read__  ,Gr_8_Explore_Math__  ,Gr_8_Explore_Read__  ,ISAT_Exceeding_Math__  ,ISAT_Exceeding_Reading__  ,ISAT_Value_Add_Math  ,ISAT_Value_Add_Read  ,ISAT_Value_Add_Color_Math  ,ISAT_Value_Add_Color_Read  ,Students_Taking__Algebra__  ,Students_Passing__Algebra__  ,9th_Grade_EXPLORE_2009  ,9th_Grade_EXPLORE_2010  ,10th_Grade_PLAN_2009  ,10th_Grade_PLAN_2010  ,Net_Change_EXPLORE_and_PLAN  ,11th_Grade_Average_ACT_2011  ,Net_Change_PLAN_and_ACT  ,College_Eligibility__  ,Graduation_Rate__  ,College_Enrollment_Rate__  ,COLLEGE_ENROLLMENT  ,General_Services_Route  ,Freshman_on_Track_Rate__  ,X_COORDINATE  ,Y_COORDINATE  ,Latitude  ,Longitude  ,COMMUNITY_AREA_NUMBER  ,COMMUNITY_AREA_NAME  ,Ward  ,Police_District  ,Location) values(%s,%s,%s,%s,%s,%s,%s,%s,%s,%s,%s,%s,%s,%s,%s,%s,%s,%s,%s,%s,%s,%s,%s,%s,%s,%s,%s,%s,%s,%s,%s,%s,%s,%s,%s,%s,%s,%s,%s,%s,%s,%s,%s,%s,%s,%s,%s,%s,%s,%s,%s,%s,%s,%s,%s,%s,%s,%s,%s,%s,%s,%s,%s,%s,%s,%s,%s,%s,%s,%s,%s,%s,%s,%s,%s,%s,%s,%s)\"\n",
    "cu.executemany(v,d)\n",
    "mydb.commit()"
   ]
  },
  {
   "cell_type": "code",
   "execution_count": 14,
   "id": "dc5d62c4",
   "metadata": {
    "scrolled": true
   },
   "outputs": [
    {
     "name": "stdout",
     "output_type": "stream",
     "text": [
      "importing data\n",
      "['1', 'Rogers Park', '7.7', '23.6', '8.7', '18.2', '27.5', '23939', '39']\n",
      "['2', 'West Ridge', '7.8', '17.2', '8.8', '20.8', '38.5', '23040', '46']\n",
      "['3', 'Uptown', '3.8', '24.0', '8.9', '11.8', '22.2', '35787', '20']\n",
      "['4', 'Lincoln Square', '3.4', '10.9', '8.2', '13.4', '25.5', '37524', '17']\n",
      "['5', 'North Center', '0.3', '7.5', '5.2', '4.5', '26.2', '57123', '6']\n",
      "['6', 'Lake View', '1.1', '11.4', '4.7', '2.6', '17.0', '60058', '5']\n",
      "['7', 'Lincoln Park', '0.8', '12.3', '5.1', '3.6', '21.5', '71551', '2']\n",
      "['8', 'Near North Side', '1.9', '12.9', '7.0', '2.5', '22.6', '88669', '1']\n",
      "['9', 'Edison Park', '1.1', '3.3', '6.5', '7.4', '35.3', '40959', '8']\n",
      "['10', 'Norwood Park', '2.0', '5.4', '9.0', '11.5', '39.5', '32875', '21']\n",
      "['11', 'Jefferson Park', '2.7', '8.6', '12.4', '13.4', '35.5', '27751', '25']\n",
      "['12', 'Forest Glen', '1.1', '7.5', '6.8', '4.9', '40.5', '44164', '11']\n",
      "['13', 'North Park', '3.9', '13.2', '9.9', '14.4', '39.0', '26576', '33']\n",
      "['14', 'Albany Park', '11.3', '19.2', '10.0', '32.9', '32.0', '21323', '53']\n",
      "['15', 'Portage Park', '4.1', '11.6', '12.6', '19.3', '34.0', '24336', '35']\n",
      "['16', 'Irving Park', '6.3', '13.1', '10.0', '22.4', '31.6', '27249', '34']\n",
      "['17', 'Dunning', '5.2', '10.6', '10.0', '16.2', '33.6', '26282', '28']\n",
      "['18', 'Montclaire', '8.1', '15.3', '13.8', '23.5', '38.6', '22014', '50']\n",
      "['19', 'Belmont Cragin', '10.8', '18.7', '14.6', '37.3', '37.3', '15461', '70']\n",
      "['20', 'Hermosa', '6.9', '20.5', '13.1', '41.6', '36.4', '15089', '71']\n",
      "['21', 'Avondale', '6.0', '15.3', '9.2', '24.7', '31.0', '20039', '42']\n",
      "['22', 'Logan Square', '3.2', '16.8', '8.2', '14.8', '26.2', '31908', '23']\n",
      "['23', 'Humboldt park', '14.8', '33.9', '17.3', '35.4', '38.0', '13781', '85']\n",
      "['24', 'West Town', '2.3', '14.7', '6.6', '12.9', '21.7', '43198', '10']\n",
      "['25', 'Austin', '6.3', '28.6', '22.6', '24.4', '37.9', '15957', '73']\n",
      "['26', 'West Garfield Park', '9.4', '41.7', '25.8', '24.5', '43.6', '10934', '92']\n",
      "['27', 'East Garfield Park', '8.2', '42.4', '19.6', '21.3', '43.2', '12961', '83']\n",
      "['28', 'Near West Side', '3.8', '20.6', '10.7', '9.6', '22.2', '44689', '15']\n",
      "['29', 'North Lawndale', '7.4', '43.1', '21.2', '27.6', '42.7', '12034', '87']\n",
      "['30', 'South Lawndale', '15.2', '30.7', '15.8', '54.8', '33.8', '10402', '96']\n",
      "['31', 'Lower West Side', '9.6', '25.8', '15.8', '40.7', '32.6', '16444', '76']\n",
      "['32', 'Loop', '1.5', '14.7', '5.7', '3.1', '13.5', '65526', '3']\n",
      "['33', 'Near South Side', '1.3', '13.8', '4.9', '7.4', '21.8', '59077', '7']\n",
      "['34', 'Armour Square', '5.7', '40.1', '16.7', '34.5', '38.3', '16148', '82']\n",
      "['35', 'Douglas', '1.8', '29.6', '18.2', '14.3', '30.7', '23791', '47']\n",
      "['36', 'Oakland', '1.3', '39.7', '28.7', '18.4', '40.4', '19252', '78']\n",
      "['37', 'Fuller Park', '3.2', '51.2', '33.9', '26.6', '44.9', '10432', '97']\n",
      "['38', 'Grand Boulevard', '3.3', '29.3', '24.3', '15.9', '39.5', '23472', '57']\n",
      "['39', 'Kenwood', '2.4', '21.7', '15.7', '11.3', '35.4', '35911', '26']\n",
      "['40', 'Washington Park', '5.6', '42.1', '28.6', '25.4', '42.8', '13785', '88']\n",
      "['41', 'Hyde Park', '1.5', '18.4', '8.4', '4.3', '26.2', '39056', '14']\n",
      "['42', 'Woodlawn', '2.9', '30.7', '23.4', '16.5', '36.1', '18672', '58']\n",
      "['43', 'South Shore', '2.8', '31.1', '20.0', '14.0', '35.7', '19398', '55']\n",
      "['44', 'Chatham', '3.3', '27.8', '24.0', '14.5', '40.3', '18881', '60']\n",
      "['45', 'Avalon Park', '1.4', '17.2', '21.1', '10.6', '39.3', '24454', '41']\n",
      "['46', 'South Chicago', '4.7', '29.8', '19.7', '26.6', '41.1', '16579', '75']\n",
      "['47', 'Burnside', '6.8', '33.0', '18.6', '19.3', '42.7', '12515', '79']\n",
      "['48', 'Calumet Heights', '2.1', '11.5', '20.0', '11.0', '44.0', '28887', '38']\n",
      "['49', 'Roseland', '2.5', '19.8', '20.3', '16.9', '41.2', '17949', '52']\n",
      "['50', 'Pullman', '1.5', '21.6', '22.8', '13.1', '38.6', '20588', '51']\n",
      "['51', 'South Deering', '4.0', '29.2', '16.3', '21.0', '39.5', '14685', '65']\n",
      "['52', 'East Side', '6.8', '19.2', '12.1', '31.9', '42.8', '17104', '64']\n",
      "['53', 'West Pullman', '3.3', '25.9', '19.4', '20.5', '42.1', '16563', '62']\n",
      "['54', 'Riverdale', '5.8', '56.5', '34.6', '27.5', '51.5', '8201', '98']\n",
      "['55', 'Hegewisch', '3.3', '17.1', '9.6', '19.2', '42.9', '22677', '44']\n",
      "['56', 'Garfield Ridge', '2.6', '8.8', '11.3', '19.3', '38.1', '26353', '32']\n",
      "['57', 'Archer Heights', '8.5', '14.1', '16.5', '35.9', '39.2', '16134', '67']\n",
      "['58', 'Brighton Park', '14.4', '23.6', '13.9', '45.1', '39.3', '13089', '84']\n",
      "['59', 'McKinley Park', '7.2', '18.7', '13.4', '32.9', '35.6', '16954', '61']\n",
      "['60', 'Bridgeport', '4.5', '18.9', '13.7', '22.2', '31.3', '22694', '43']\n",
      "['61', 'New City', '11.9', '29.0', '23.0', '41.5', '38.9', '12765', '91']\n",
      "['62', 'West Elsdon', '11.1', '15.6', '16.7', '37.0', '37.7', '15754', '69']\n",
      "['63', 'Gage Park', '15.8', '23.4', '18.2', '51.5', '38.8', '12171', '93']\n",
      "['64', 'Clearing', '2.7', '8.9', '9.5', '18.8', '37.6', '25113', '29']\n",
      "['65', 'West Lawn', '5.8', '14.9', '9.6', '33.6', '39.6', '16907', '56']\n",
      "['66', 'Chicago Lawn', '7.6', '27.9', '17.1', '31.2', '40.6', '13231', '80']\n",
      "['67', 'West Englewood', '4.8', '34.4', '35.9', '26.3', '40.7', '11317', '89']\n",
      "['68', 'Englewood', '3.8', '46.6', '28.0', '28.5', '42.5', '11888', '94']\n",
      "['69', 'Greater Grand Crossing', '3.6', '29.6', '23.0', '16.5', '41.0', '17285', '66']\n",
      "['70', 'Ashburn', '4.0', '10.4', '11.7', '17.7', '36.9', '23482', '37']\n",
      "['71', 'Auburn Gresham', '4.0', '27.6', '28.3', '18.5', '41.9', '15528', '74']\n",
      "['72', 'Beverly', '0.9', '5.1', '8.0', '3.7', '40.5', '39523', '12']\n",
      "['73', 'Washington Height', '1.1', '16.9', '20.8', '13.7', '42.6', '19713', '48']\n",
      "['74', 'Mount Greenwood', '1.0', '3.4', '8.7', '4.3', '36.8', '34381', '16']\n",
      "['75', 'Morgan Park', '0.8', '13.2', '15.0', '10.8', '40.3', '27149', '30']\n",
      "['76', \"O'Hare\", '3.6', '15.4', '7.1', '10.9', '30.3', '25828', '24']\n",
      "['77', 'Edgewater', '4.1', '18.2', '9.2', '9.7', '23.8', '33385', '19']\n",
      "['', 'CHICAGO', '4.7', '19.7', '12.9', '19.5', '33.5', '28202', '']\n"
     ]
    }
   ],
   "source": [
    "cu=mydb.cursor()\n",
    "csv_data=csv.reader(open('ChicagoCensusData.csv'))\n",
    "header=next(csv_data)\n",
    "print(\"importing data\")\n",
    "c=[]\n",
    "for row in csv_data:\n",
    "    c.append(row)\n",
    "    print(row)\n",
    "a='insert into census(COMMUNITY_AREA_NUMBER,COMMUNITY_AREA_NAME,PERCENT_OF_HOUSING_CROWDED,PERCENT_HOUSEHOLDS_BELOW_POVERTY,PERCENT_AGED_16__UNEMPLOYED,PERCENT_AGED_25__WITHOUT_HIGH_SCHOOL_DIPLOMA,PERCENT_AGED_UNDER_18_OR_OVER_64,PER_CAPITA_INCOME,HARDSHIP_INDEX) values(%s,%s,%s,%s,%s,%s,%s,%s,%s)'\n",
    "cu.executemany(a,c)\n",
    "mydb.commit()"
   ]
  },
  {
   "cell_type": "code",
   "execution_count": 44,
   "id": "41b3649c",
   "metadata": {},
   "outputs": [
    {
     "name": "stdout",
     "output_type": "stream",
     "text": [
      "succcessfully  inserted\n"
     ]
    }
   ],
   "source": [
    "cu=mydb.cursor()\n",
    "csv_data3=csv.reader(open('ChicagoCrimeData.csv'))\n",
    "header=next(csv_data3)\n",
    "print(\"succcessfully  inserted\")\n",
    "p=[]\n",
    "for rows3 in csv_data3:\n",
    "    p.append((rows3))\n",
    "k='insert into crime(ID,CASE_NUMBER,date,BLOCK,IUCR,PRIMARY_TYPE,DESCRIPTION,LOCATION_DESCRIPTION,ARREST,DOMESTIC,BEAT,DISTRICT,WARD,COMMUNITY_AREA_NUMBER,FBICODE,X_COORDINATE,Y_COORDINATE,year,LATITUDE,LONGITUDE,LOCATION) values(%s,%s,%s,%s,%s,%s,%s,%s,%s,%s,%s,%s,%s,%s,%s,%s,%s,%s,%s,%s,%s)'\n",
    "cu.executemany(k,p)\n",
    "mydb.commit()"
   ]
  },
  {
   "cell_type": "markdown",
   "id": "e3f8abd3",
   "metadata": {},
   "source": [
    "# ROLLBACK METHOD()"
   ]
  },
  {
   "cell_type": "code",
   "execution_count": 6,
   "id": "b5382b58",
   "metadata": {},
   "outputs": [
    {
     "name": "stdout",
     "output_type": "stream",
     "text": [
      "sucessfully inserted\n"
     ]
    }
   ],
   "source": [
    "a='alter table crime modify column ID varchar(100)'\n",
    "try:\n",
    "    cu.execute(a)\n",
    "    mydb.commit()\n",
    "    print(\"sucessfully inserted\")\n",
    "except:\n",
    "    cu.rollback()\n",
    "    print(\"retrying\")"
   ]
  },
  {
   "cell_type": "markdown",
   "id": "462eeb05",
   "metadata": {},
   "source": [
    "#### Finding the total number of crimes recorded in the CRIME table"
   ]
  },
  {
   "cell_type": "code",
   "execution_count": 9,
   "id": "d5ee9e1c",
   "metadata": {},
   "outputs": [
    {
     "data": {
      "text/plain": [
       "[(533,)]"
      ]
     },
     "execution_count": 9,
     "metadata": {},
     "output_type": "execute_result"
    }
   ],
   "source": [
    "cu=mydb.cursor()\n",
    "cu.execute('select count(CASE_NUMBER) from crime')\n",
    "cu.fetchall()"
   ]
  },
  {
   "cell_type": "code",
   "execution_count": null,
   "id": "51870c5a",
   "metadata": {},
   "outputs": [],
   "source": [
    "b.head()"
   ]
  },
  {
   "cell_type": "markdown",
   "id": "939351e3",
   "metadata": {},
   "source": [
    "###  List community areas with per capita income less than 11000"
   ]
  },
  {
   "cell_type": "code",
   "execution_count": 21,
   "id": "fae6cc38",
   "metadata": {},
   "outputs": [
    {
     "name": "stdout",
     "output_type": "stream",
     "text": [
      "[('CHICAGO', 28202), ('Rogers Park', 23939), ('Norwood Park', 32875), ('Jefferson Park', 27751), ('Forest Glen', 44164), ('North Park', 26576), ('Albany Park', 21323), ('Portage Park', 24336), ('Irving Park', 27249), ('Dunning', 26282), ('Montclaire', 22014), ('Belmont Cragin', 15461), ('West Ridge', 23040), ('Hermosa', 15089), ('Avondale', 20039), ('Logan Square', 31908), ('Humboldt park', 13781), ('West Town', 43198), ('Austin', 15957), ('East Garfield Park', 12961), ('Near West Side', 44689), ('North Lawndale', 12034), ('Uptown', 35787), ('Lower West Side', 16444), ('Loop', 65526), ('Near South Side', 59077), ('Armour Square', 16148), ('Douglas', 23791), ('Oakland', 19252), ('Grand Boulevard', 23472), ('Kenwood', 35911), ('Lincoln Square', 37524), ('Washington Park', 13785), ('Hyde Park', 39056), ('Woodlawn', 18672), ('South Shore', 19398), ('Chatham', 18881), ('Avalon Park', 24454), ('South Chicago', 16579), ('Burnside', 12515), ('Calumet Heights', 28887), ('Roseland', 17949), ('North Center', 57123), ('Pullman', 20588), ('South Deering', 14685), ('East Side', 17104), ('West Pullman', 16563), ('Hegewisch', 22677), ('Garfield Ridge', 26353), ('Archer Heights', 16134), ('Brighton Park', 13089), ('McKinley Park', 16954), ('Lake View', 60058), ('Bridgeport', 22694), ('New City', 12765), ('West Elsdon', 15754), ('Gage Park', 12171), ('Clearing', 25113), ('West Lawn', 16907), ('Chicago Lawn', 13231), ('West Englewood', 11317), ('Englewood', 11888), ('Greater Grand Crossing', 17285), ('Lincoln Park', 71551), ('Ashburn', 23482), ('Auburn Gresham', 15528), ('Beverly', 39523), ('Washington Height', 19713), ('Mount Greenwood', 34381), ('Morgan Park', 27149), (\"O'Hare\", 25828), ('Edgewater', 33385), ('Near North Side', 88669), ('Edison Park', 40959)]\n"
     ]
    }
   ],
   "source": [
    "cu=mydb.cursor()\n",
    "cu.execute('select COMMUNITY_AREA_NAME,PER_CAPITA_INCOME from census where PER_CAPITA_INCOME > 11000')\n",
    "d=cu.fetchall()\n",
    "g=[]\n",
    "for i in d:\n",
    "    g+=[i]\n",
    "print(g)"
   ]
  },
  {
   "cell_type": "markdown",
   "id": "fe601e9b",
   "metadata": {},
   "source": [
    "## #  :List all case numbers of crimes"
   ]
  },
  {
   "cell_type": "code",
   "execution_count": 6,
   "id": "409b1b72",
   "metadata": {},
   "outputs": [
    {
     "name": "stdout",
     "output_type": "stream",
     "text": [
      "[[('HK587712',)], [('HK456306',)], [('HT233595',)], [('HT133522',)], [('HZ138551',)], [('HS540106',)], [('HZ534771',)], [('HL793243',)], [('HL149610',)], [('HK361551',)], [('HX552797',)], [('HT180228',)], [('HV243612',)], [('HN200365',)], [('HK108680',)], [('HY396729',)], [('HR271603',)], [('HX332132',)], [('HW303994',)], [('HS569246',)], [('HY234744',)], [('HP320451',)], [('HN484464',)], [('JB151690',)], [('HR582990',)], [('HR535632',)], [('HH486939',)], [('HW441620',)], [('HJ561433',)], [('HR583513',)], [('HX509438',)], [('HS681158',)], [('HK350670',)], [('G256545',)], [('JA272438',)], [('HH201585',)], [('G212935',)], [('HL590300',)], [('HL409680',)], [('HM324025',)], [('G662598',)], [('HV353560',)], [('HR261581',)], [('HL680775',)], [('HM543491',)], [('HY167451',)], [('HY377901',)], [('HX225704',)], [('HJ308632',)], [('HV528008',)], [('HK801112',)], [('HS532107',)], [('JA261898',)], [('JA559176',)], [('JA412895',)], [('HY273740',)], [('HZ224258',)], [('HJ652747',)], [('G040244',)], [('HJ415128',)], [('HV534721',)], [('JA503725',)], [('HM803061',)], [('HN731220',)], [('HP691879',)], [('HV537004',)], [('HR149903',)], [('HX314361',)], [('HV345270',)], [('HS308747',)], [('HK728309',)], [('HL005270',)], [('HY291329',)], [('HJ678713',)], [('HY412959',)], [('HX155070',)], [('HV402967',)], [('HX332979',)], [('HJ710634',)], [('HX165034',)], [('HR385117',)], [('HS230912',)], [('HL177398',)], [('HH702524',)], [('JA384163',)], [('HJ672058',)], [('HT368471',)], [('HY202462',)], [('HX354359',)], [('HZ146741',)], [('G376790',)], [('HX262353',)], [('HP317516',)], [('HZ335434',)], [('HS678732',)], [('HL382289',)], [('HM392612',)], [('HH869886',)], [('HR460350',)], [('HM117889',)], [('HR576816',)], [('HZ372381',)], [('HZ556726',)], [('HN421595',)], [('HK454598',)], [('HH657809',)], [('HS451246',)], [('HH316735',)], [('G597730',)], [('G736811',)], [('HT651635',)], [('HZ432273',)], [('G517474',)], [('HP746347',)], [('G056330',)], [('HN772519',)], [('HZ309936',)], [('HY368284',)], [('HL353697',)], [('HT375934',)], [('JA188596',)], [('HL725506',)], [('HV395700',)], [('HH696901',)], [('HT390647',)], [('HK815196',)], [('JA490957',)], [('HK103473',)], [('HM556695',)], [('HH558381',)], [('HK498590',)], [('HX455839',)], [('HR703960',)], [('HL646682',)], [('HV445580',)], [('G688026',)], [('HJ466766',)], [('HL632721',)], [('HP579910',)], [('HL718742',)], [('HP714065',)], [('HP716225',)], [('HW481295',)], [('HS568476',)], [('JB213238',)], [('HS475732',)], [('HS595785',)], [('HR408597',)], [('HT542713',)], [('HL240985',)], [('HJ254782',)], [('HK561262',)], [('HW213573',)], [('G419948',)], [('HL177008',)], [('HJ639869',)], [('HM217017',)], [('HL388623',)], [('HY189363',)], [('HS498285',)], [('HN224900',)], [('HR387668',)], [('HJ294892',)], [('HL745027',)], [('G533278',)], [('HH827769',)], [('HH639427',)], [('HK771992',)], [('HH867007',)], [('HJ575773',)], [('HR136920',)], [('HT457930',)], [('G070193',)], [('HJ724585',)], [('HP121474',)], [('G198370',)], [('HJ723825',)], [('HJ458342',)], [('HP558812',)], [('HY192694',)], [('HN472326',)], [('HK756778',)], [('HH741961',)], [('JA460432',)], [('G140454',)], [('HX239866',)], [('HM378171',)], [('HW182288',)], [('HZ295843',)], [('HM673431',)], [('HP352546',)], [('HR286405',)], [('HR195987',)], [('HW261668',)], [('JA496716',)], [('JA344492',)], [('HZ334220',)], [('HR217367',)], [('HV268964',)], [('JA483294',)], [('HT169840',)], [('HT621306',)], [('HS269736',)], [('HK243330',)], [('HH262924',)], [('HL613433',)], [('HY267896',)], [('HN568531',)], [('HT112422',)], [('HV479133',)], [('HV592346',)], [('HH619797',)], [('HZ376709',)], [('HV573337',)], [('HL269210',)], [('HL567458',)], [('HR674429',)], [('HM200888',)], [('HX467661',)], [('HX448587',)], [('HS200939',)], [('HN335611',)], [('HZ535494',)], [('HX154767',)], [('HM337445',)], [('HM244120',)], [('HR342598',)], [('HL187666',)], [('HW449676',)], [('HS589302',)], [('HX145326',)], [('HN553354',)], [('HN784049',)], [('HJ527694',)], [('HM303461',)], [('HM535632',)], [('HT353855',)], [('G134016',)], [('HR125162',)], [('G496261',)], [('HJ842548',)], [('HN280980',)], [('JA560123',)], [('HY405637',)], [('HP689703',)], [('HR345366',)], [('HZ242802',)], [('HM661326',)], [('HJ336995',)], [('HK694552',)], [('HJ760939',)], [('HV366181',)], [('HJ563089',)], [('HH576932',)], [('HR308948',)], [('HK100758',)], [('HV328581',)], [('HV267193',)], [('HJ620738',)], [('HJ557529',)], [('HS498920',)], [('HL608698',)], [('G323273',)], [('HK577020',)], [('HY365876',)], [('HS305355',)], [('HK162357',)], [('HN778969',)], [('HV185969',)], [('HH657604',)], [('HW555338',)], [('HV268708',)], [('G170513',)], [('HW160463',)], [('HN355411',)], [('HK190723',)], [('HV457847',)], [('HW566855',)], [('HL141298',)], [('HR281750',)], [('HL342355',)], [('HX112183',)], [('HJ624999',)], [('HJ618818',)], [('HR597126',)], [('HN558484',)], [('HR505781',)], [('HN522324',)], [('HN647052',)], [('HT323138',)], [('HW562748',)], [('HN719188',)], [('HT237921',)], [('HY215032',)], [('HK369511',)], [('HL703172',)], [('HM762800',)], [('HN370211',)], [('HR195962',)], [('HM284854',)], [('HL319228',)], [('HR447925',)], [('HM590293',)], [('HP513177',)], [('HL331611',)], [('HN448271',)], [('HH402660',)], [('HN422493',)], [('HP263901',)], [('G577663',)], [('HT535175',)], [('JA110097',)], [('HM360756',)], [('HN275969',)], [('HZ544441',)], [('HL660560',)], [('HS164946',)], [('HR399710',)], [('HP243837',)], [('HP157774',)], [('HP340132',)], [('HJ388435',)], [('JA246453',)], [('HN407116',)], [('JA107722',)], [('HJ532105',)], [('HH729144',)], [('HY204891',)], [('HZ228967',)], [('HY385205',)], [('HK328402',)], [('JA349450',)], [('HK743113',)], [('HR185873',)], [('HH692211',)], [('JA470839',)], [('HY182950',)], [('HR668156',)], [('HZ234518',)], [('HW569852',)], [('HS314108',)], [('HH463517',)], [('HN182437',)], [('HW493063',)], [('HJ637197',)], [('HH829588',)], [('HZ322965',)], [('HW415978',)], [('HL315870',)], [('HJ222529',)], [('HM535930',)], [('HZ242203',)], [('HN213069',)], [('HH343366',)], [('JA269772',)], [('HH106347',)], [('HM507529',)], [('HP258815',)], [('HL111533',)], [('HS479338',)], [('HZ403432',)], [('HV462975',)], [('HW414519',)], [('HL414306',)], [('HT315369',)], [('HL330223',)], [('HK751265',)], [('HT540548',)], [('HX398190',)], [('HK348713',)], [('HR206683',)], [('HH154448',)], [('JA462321',)], [('HV233824',)], [('HR307075',)], [('HZ134318',)], [('HM437597',)], [('HW233866',)], [('G659211',)], [('HW274134',)], [('HW526270',)], [('G375927',)], [('HP325677',)], [('HL300450',)], [('HN246122',)], [('HH149573',)], [('HK450946',)], [('HT434553',)], [('HL548996',)], [('HR696852',)], [('HK481967',)], [('HT202584',)], [('HJ409442',)], [('HT251336',)], [('HV575905',)], [('HR489129',)], [('HT427568',)], [('HR539548',)], [('HS426544',)], [('HT556032',)], [('HL254965',)], [('JA216127',)], [('HW350078',)], [('HR308245',)], [('HY455377',)], [('HP747058',)], [('HN645348',)], [('HL334216',)], [('HS230740',)], [('HV593288',)], [('HK341632',)], [('HH859922',)], [('G611731',)], [('HM757133',)], [('HJ786817',)], [('HV356669',)], [('HX207970',)], [('HM733422',)], [('HH352862',)], [('G652158',)], [('HX301095',)], [('HY163644',)], [('HR140766',)], [('HH605275',)], [('HJ513676',)], [('HH337319',)], [('HH423186',)], [('HN543219',)], [('HZ463811',)], [('HN702776',)], [('HR607189',)], [('G654957',)], [('HL131736',)], [('HN519755',)], [('G629024',)], [('HL239939',)], [('HK328522',)], [('HJ349966',)], [('G345035',)], [('JA394755',)], [('HY518743',)], [('JA550741',)], [('HH493814',)], [('HZ523997',)], [('G161722',)], [('HY455698',)], [('HH208082',)], [('HT404945',)], [('HL213843',)], [('HM422467',)], [('JA192460',)], [('HL446401',)], [('HS330202',)], [('HP661088',)], [('HJ281736',)], [('HN136243',)], [('HJ580490',)], [('HV213648',)], [('HV514287',)], [('HJ753917',)], [('JA133264',)], [('HJ642080',)], [('JA557966',)], [('HV548880',)], [('HR480844',)], [('HW568748',)], [('HH405177',)], [('HL472862',)], [('G326063',)], [('HL424420',)], [('JA393243',)], [('HR585012',)], [('JA455629',)], [('HV369974',)], [('HN637742',)], [('HW557360',)], [('HJ776916',)], [('HJ419340',)], [('HH329720',)], [('HM802052',)], [('HJ804627',)], [('HR190881',)], [('G575031',)], [('G122095',)], [('HN595319',)], [('G302291',)], [('G057394',)], [('HM590468',)], [('HV463112',)], [('HK749575',)], [('HS100098',)], [('HW576249',)], [('HK485601',)], [('HH460583',)], [('HM576559',)], [('HL611297',)], [('HV356389',)], [('HX203242',)], [('HH292682',)], [('G635735',)], [('HN567387',)], [('HR391350',)], [('HM768251',)], [('HT394616',)], [('HH688935',)], [('HK677648',)], [('G158614',)], [('HK310265',)], [('HR314298',)], [('HT404326',)], [('HY259084',)], [('HL415544',)], [('HP265256',)], [('HR392537',)], [('HL266884',)], [('HK238408',)], [('HX343113',)], [('HM195342',)], [('HW519443',)], [('JA359626',)], [('HN144152',)], [('HN544458',)], [('HW238778',)], [('JB155558',)], [('HY458571',)], [('HZ378869',)], [('HZ378355',)], [('HX258445',)], [('HZ192829',)], [('HZ133234',)], [('HJ747227',)], [('JA143710',)], [('G021609',)]]\n"
     ]
    }
   ],
   "source": [
    "cu=mydb.cursor()\n",
    "cu.execute('select CASE_NUMBER from crime ')\n",
    "children=cu.fetchall()\n",
    "minor=[]\n",
    "for i in children:\n",
    "    minor.append([i])\n",
    "print(minor)"
   ]
  },
  {
   "cell_type": "markdown",
   "id": "e8882431",
   "metadata": {},
   "source": [
    " ## kinds of crimes were recorded at schools"
   ]
  },
  {
   "cell_type": "code",
   "execution_count": 7,
   "id": "86063594",
   "metadata": {},
   "outputs": [
    {
     "name": "stdout",
     "output_type": "stream",
     "text": [
      "[[(4006321, 'HL353697', datetime.date(2005, 5, 4), '077XX S BURNHAM AVE', '460', 'BATTERY', 'SIMPLE', 'SCHOOL, PUBLIC, GROUNDS', 'FALSE', 'FALSE', 421, 4, '7', '43', '08B', '1196066', '1854156', 2005, '41.75469107', '-87.55703869', '(41.754691074, -87.557038686)')], [(4430638, 'HL725506', datetime.date(2005, 11, 9), '048XX N FRANCISCO AVE', '484', 'BATTERY', 'PRO EMP HANDS NO/MIN INJURY', 'SCHOOL, PUBLIC, BUILDING', 'TRUE', 'FALSE', 2031, 20, '40', '4', '08B', '1156348', '1932071', 2005, '41.96938944', '-87.70048881', '(41.96938944, -87.700488807)')], [(6644618, 'HP716225', datetime.date(2008, 12, 4), '030XX S DR MARTIN LUTHER KING JR DR', '460', 'BATTERY', 'SIMPLE', 'SCHOOL, PUBLIC, BUILDING', 'FALSE', 'FALSE', 2112, 1, '2', '35', '08B', '1179306', '1885032', 2008, '41.83981621', '-87.61751617', '(41.839816207, -87.617516172)')], [(2341955, 'HH639427', datetime.date(2002, 9, 10), '005XX N WALLER AVE', '460', 'BATTERY', 'SIMPLE', 'SCHOOL, PUBLIC, BUILDING', 'FALSE', 'FALSE', 1512, 15, '29', '25', '08B', '1138238', '1903181', 2002, '41.89045993', '-87.76778089', '(41.890459933, -87.767780886)')], [(11110571, 'JA460432', datetime.date(2017, 10, 5), '076XX S HOMAN AVE', '460', 'BATTERY', 'SIMPLE', 'SCHOOL, PUBLIC, GROUNDS', 'FALSE', 'FALSE', 835, 8, '18', '70', '08B', '1155024', '1853614', 2017, '41.75412154', '-87.70746025', '(41.754121535, -87.707460248)')], [(7399281, 'HS200939', datetime.date(2010, 3, 10), '053XX W CONGRESS PKWY', '1320', 'CRIMINAL DAMAGE', 'TO VEHICLE', 'SCHOOL, PUBLIC, GROUNDS', 'FALSE', 'FALSE', 1522, 15, '29', '25', '14', '1140822', '1897164', 2010, '41.8739014', '-87.7584391', '(41.873901397, -87.758439102)')], [(3530721, 'HK577020', datetime.date(2004, 8, 23), '016XX W JONQUIL TER', '2024', 'NARCOTICS', 'POSS: HEROIN(WHITE)', 'SCHOOL, PUBLIC, GROUNDS', 'TRUE', 'FALSE', 2422, 24, '49', '1', '18', '1163893', '1951001', 2004, '42.0211776', '-87.67220843', '(42.021177601, -87.67220843)')], [(7502426, 'HS305355', datetime.date(2010, 5, 13), '035XX S WASHTENAW AVE', '1821', 'NARCOTICS', 'MANU/DEL:CANNABIS 10GM OR LESS', 'SCHOOL, PUBLIC, BUILDING', 'TRUE', 'FALSE', 913, 9, '12', '58', '18', '1158944', '1880896', 2010, '41.82890791', '-87.69234919', '(41.828907913, -87.692349187)')], [(8082600, 'HT315369', datetime.date(2011, 5, 26), '032XX W ADAMS ST', '545', 'ASSAULT', 'PRO EMP HANDS NO/MIN INJURY', 'SCHOOL, PUBLIC, GROUNDS', 'FALSE', 'FALSE', 1124, 11, '28', '27', '08A', '1154752', '1898890', 2011, '41.87837031', '-87.70724814', '(41.878370307, -87.707248137)')], [(7174283, 'HR585012', datetime.date(2009, 10, 13), '043XX W 79TH ST', '1330', 'CRIMINAL TRESPASS', 'TO LAND', 'SCHOOL, PUBLIC, GROUNDS', 'TRUE', 'FALSE', 834, 8, '13', '70', '26', '1148764', '1851854', 2009, '41.74941446', '-87.7304466', '(41.749414464, -87.730446597)')], [(2075734, 'HH292682', datetime.date(2002, 4, 5), '016XX W BRYN MAWR AV', '2850', 'PUBLIC PEACE VIOLATION', 'BOMB THREAT', 'SCHOOL, PRIVATE, BUILDING', 'FALSE', 'FALSE', 2012, 20, '', '', '26', '', '', 2002, '', '', '')], [(1806896, 'G635735', datetime.date(2001, 10, 22), '0000X N HERMITAGE AV', '2850', 'PUBLIC PEACE VIOLATION', 'BOMB THREAT', 'SCHOOL, PUBLIC, BUILDING', 'TRUE', 'FALSE', 1333, 12, '', '', '26', '1164687', '1900646', 2001, '41.88298425', '-87.67071922', '(41.882984246, -87.670719218)')]]\n"
     ]
    }
   ],
   "source": [
    "cu=mydb.cursor()\n",
    "cu.execute(\"select * from crime where LOCATION_DESCRIPTION like 'SCHOOL%'\")\n",
    "kidnap=cu.fetchall()\n",
    "school=[]\n",
    "for i in kidnap:\n",
    "    school.append([i])\n",
    "print(school)"
   ]
  },
  {
   "cell_type": "markdown",
   "id": "b72fe8b2",
   "metadata": {},
   "source": [
    "## List the average safety score for each type of school"
   ]
  },
  {
   "cell_type": "code",
   "execution_count": 8,
   "id": "3f78309d",
   "metadata": {},
   "outputs": [
    {
     "name": "stdout",
     "output_type": "stream",
     "text": [
      "[('HS', 45.41489361702128), ('ES', 44.696969696969695), ('MS', 48.0)]\n"
     ]
    }
   ],
   "source": [
    "cu=mydb.cursor()\n",
    "cu.execute(\"SELECT Elementary_Middle_or_High_School, AVG(safety_score) AS avg_safety_score FROM schools GROUP BY Elementary_Middle_or_High_School;\")\n",
    "score=cu.fetchall()\n",
    "type=[]\n",
    "for i in score:\n",
    "    type.append(i)\n",
    "print(type)"
   ]
  },
  {
   "cell_type": "markdown",
   "id": "b7d9cf5a",
   "metadata": {},
   "source": [
    "## List 5 community areas with highest % of households below poverty line"
   ]
  },
  {
   "cell_type": "code",
   "execution_count": 9,
   "id": "f4a691b2",
   "metadata": {},
   "outputs": [
    {
     "data": {
      "text/plain": [
       "[('54', 'Riverdale', 56.5),\n",
       " ('37', 'Fuller Park', 51.2),\n",
       " ('68', 'Englewood', 46.6),\n",
       " ('29', 'North Lawndale', 43.1),\n",
       " ('27', 'East Garfield Park', 42.4)]"
      ]
     },
     "execution_count": 9,
     "metadata": {},
     "output_type": "execute_result"
    }
   ],
   "source": [
    "cu=mydb.cursor()\n",
    "cu.execute(\"SELECT COMMUNITY_AREA_NUMBER,COMMUNITY_AREA_NAME, PERCENT_HOUSEHOLDS_BELOW_POVERTY FROM census ORDER BY PERCENT_HOUSEHOLDS_BELOW_POVERTY DESC LIMIT 5\")\n",
    "cu.fetchall()"
   ]
  },
  {
   "cell_type": "markdown",
   "id": "9c3e68f1",
   "metadata": {},
   "source": [
    "## community area with most crime prone"
   ]
  },
  {
   "cell_type": "code",
   "execution_count": 10,
   "id": "5d0cf48f",
   "metadata": {},
   "outputs": [
    {
     "data": {
      "text/plain": [
       "[('', 'CHICAGO', 43),\n",
       " ('25', 'Austin', 43),\n",
       " ('23', 'Humboldt park', 22),\n",
       " ('68', 'Englewood', 21),\n",
       " ('29', 'North Lawndale', 16),\n",
       " ('28', 'Near West Side', 16),\n",
       " ('8', 'Near North Side', 15),\n",
       " ('71', 'Auburn Gresham', 14),\n",
       " ('24', 'West Town', 13),\n",
       " ('67', 'West Englewood', 12)]"
      ]
     },
     "execution_count": 10,
     "metadata": {},
     "output_type": "execute_result"
    }
   ],
   "source": [
    "cu=mydb.cursor()\n",
    "cu.execute(\"SELECT crime.COMMUNITY_AREA_NUMBER,census.COMMUNITY_AREA_NAME,count(CASE_NUMBER) as most_case from crime join census on crime.COMMUNITY_AREA_NUMBER =census.COMMUNITY_AREA_NUMBER group by COMMUNITY_AREA_NUMBER ORDER BY most_case DESC LIMIT 10\")\n",
    "cu.fetchall()"
   ]
  },
  {
   "cell_type": "code",
   "execution_count": null,
   "id": "8ac18b3a",
   "metadata": {},
   "outputs": [],
   "source": [
    "Using  sub-query to find the name of the community area with highest hardship index"
   ]
  },
  {
   "cell_type": "code",
   "execution_count": 11,
   "id": "1fda50d9",
   "metadata": {},
   "outputs": [
    {
     "name": "stdout",
     "output_type": "stream",
     "text": [
      "[('Riverdale',)]\n"
     ]
    }
   ],
   "source": [
    "cu=mydb.cursor()\n",
    "cu.execute(\"SELECT COMMUNITY_AREA_NAME FROM census WHERE hardship_index = ( SELECT MAX(HARDSHIP_INDEX) FROM census)\")\n",
    "a=cu.fetchall()\n",
    "print(a)"
   ]
  },
  {
   "cell_type": "code",
   "execution_count": null,
   "id": "b4479f9a",
   "metadata": {},
   "outputs": [],
   "source": [
    "Using  sub-query to determine the Community Area Name with most number of crimes"
   ]
  },
  {
   "cell_type": "code",
   "execution_count": 12,
   "id": "aaeaab24",
   "metadata": {},
   "outputs": [
    {
     "data": {
      "text/plain": [
       "[('Austin', 43), ('CHICAGO', 43)]"
      ]
     },
     "execution_count": 12,
     "metadata": {},
     "output_type": "execute_result"
    }
   ],
   "source": [
    "cu=mydb.cursor()\n",
    "cu.execute(\"SELECT COMMUNITY_AREA_NAME, COUNT(*) as num_crimes FROM census INNER JOIN crime ON census.COMMUNITY_AREA_NUMBER = crime.COMMUNITY_AREA_NUMBER GROUP BY COMMUNITY_AREA_NAME HAVING COUNT(*) = (SELECT MAX(count) FROM (SELECT COUNT(*) as count FROM crime GROUP BY COMMUNITY_AREA_NUMBER) as counts);\")\n",
    "cu.fetchall()"
   ]
  },
  {
   "cell_type": "markdown",
   "id": "58fec02d",
   "metadata": {},
   "source": [
    "# close()"
   ]
  },
  {
   "cell_type": "code",
   "execution_count": 7,
   "id": "5b6a0455",
   "metadata": {},
   "outputs": [
    {
     "data": {
      "text/plain": [
       "True"
      ]
     },
     "execution_count": 7,
     "metadata": {},
     "output_type": "execute_result"
    }
   ],
   "source": [
    "cu.close()"
   ]
  },
  {
   "cell_type": "code",
   "execution_count": null,
   "id": "4cc09548",
   "metadata": {},
   "outputs": [],
   "source": []
  },
  {
   "cell_type": "code",
   "execution_count": null,
   "id": "aa2a4864",
   "metadata": {},
   "outputs": [],
   "source": []
  },
  {
   "cell_type": "code",
   "execution_count": null,
   "id": "cedafa21",
   "metadata": {},
   "outputs": [],
   "source": []
  }
 ],
 "metadata": {
  "kernelspec": {
   "display_name": "Python 3 (ipykernel)",
   "language": "python",
   "name": "python3"
  },
  "language_info": {
   "codemirror_mode": {
    "name": "ipython",
    "version": 3
   },
   "file_extension": ".py",
   "mimetype": "text/x-python",
   "name": "python",
   "nbconvert_exporter": "python",
   "pygments_lexer": "ipython3",
   "version": "3.10.7"
  }
 },
 "nbformat": 4,
 "nbformat_minor": 5
}
